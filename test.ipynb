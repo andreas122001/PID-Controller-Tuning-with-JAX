{
 "cells": [
  {
   "cell_type": "code",
   "execution_count": 1,
   "metadata": {},
   "outputs": [],
   "source": [
    "import numpy as np\n",
    "import jax\n",
    "import jax.numpy as jnp\n",
    "from tqdm import tqdm\n",
    "from abc import ABC, abstractmethod, abstractclassmethod\n",
    "import matplotlib.pyplot as plt"
   ]
  },
  {
   "cell_type": "code",
   "execution_count": 206,
   "metadata": {},
   "outputs": [],
   "source": [
    "class AbstractController(ABC):\n",
    "    def __init__(self) -> None:\n",
    "        super().__init__()\n",
    "\n",
    "    @abstractmethod\n",
    "    def step(self, params, e, err_hist):\n",
    "        pass\n",
    "\n",
    "    def reset_error(self):\n",
    "        return jnp.array([])\n",
    "\n",
    "    @abstractmethod\n",
    "    def init_params(self):\n",
    "        pass\n",
    "\n",
    "    def update_params(self, params, lr, gradient):\n",
    "        return params - lr*gradient"
   ]
  },
  {
   "cell_type": "code",
   "execution_count": 423,
   "metadata": {},
   "outputs": [],
   "source": [
    "class NeuralController(AbstractController):\n",
    "    a_func_map = {\n",
    "        'relu': lambda x: jnp.maximum(x, 0),\n",
    "        'sigmoid': lambda x: 1 / (1 + jnp.exp(-x)),\n",
    "        'tanh': lambda x: jnp.tanh(x),\n",
    "        'leaky_relu': lambda x: jnp.maximum(x, 0.01*x),\n",
    "        'softmax': lambda x: jnp.exp(x - jnp.max(x)) / jnp.exp(x - jnp.max(x)).sum(axis=0), # assumes multi-variable input\n",
    "        'linear': lambda x: x,\n",
    "    }\n",
    "\n",
    "    def __init__(self, inputs, outputs, hidden_layers, a_funcs) -> None:\n",
    "        super().__init__()\n",
    "        self.activation_functions = a_funcs\n",
    "        self.layers = np.concatenate(([inputs], hidden_layers, [outputs])).astype(int)\n",
    "\n",
    "    def step(self, params, e, err_hist, activation_functions) -> jax.Array:\n",
    "        de = (e - err_hist[-1])\n",
    "        ie = jnp.sum(jnp.array(err_hist))\n",
    "        x = jnp.array([e,de,ie])\n",
    "\n",
    "        for (w, b), a_func in zip(params, activation_functions):\n",
    "            a = self.a_func_map[a_func.lower()]\n",
    "            x = jnp.dot(x, w) + b\n",
    "            x = a(x.flatten())\n",
    "        return x.flatten()\n",
    "\n",
    "    def init_params(self):\n",
    "        sender = self.layers[0]\n",
    "        params = []\n",
    "        for receiver in self.layers[1:]:\n",
    "            weights = np.random.uniform(-1, 1, (sender, receiver))\n",
    "            biases = np.random.uniform(-1, 1, (1, receiver))\n",
    "            sender = receiver\n",
    "            params.append([weights, biases])\n",
    "        return params\n",
    "\n",
    "    def update_params(self, params, lr, gradient):\n",
    "        for i, (w_grad, b_grad) in enumerate(gradient):\n",
    "            params[i][0] -= lr*w_grad\n",
    "            params[i][1] -= lr*b_grad\n",
    "        return params"
   ]
  },
  {
   "cell_type": "code",
   "execution_count": 397,
   "metadata": {},
   "outputs": [
    {
     "data": {
      "text/plain": [
       "Array([0.07769558, 0.3482074 , 0.574097  ], dtype=float32)"
      ]
     },
     "execution_count": 397,
     "metadata": {},
     "output_type": "execute_result"
    }
   ],
   "source": [
    "def softmax(x):\n",
    "    \"\"\"Compute softmax values for each sets of scores in x.\"\"\"\n",
    "    return np.exp(x - np.max(x)) / np.exp(x - np.max(x)).sum(axis=0)\n",
    "controller.a_func_map['softmax'](np.array([-1.0, 0.5, 1.0]))\n"
   ]
  },
  {
   "cell_type": "code",
   "execution_count": 424,
   "metadata": {},
   "outputs": [
    {
     "data": {
      "text/plain": [
       "([[Array([[[ 5.52639249e-05,  1.23301743e-05,  0.00000000e+00,\n",
       "            -2.90711941e-05,  7.32979533e-05],\n",
       "           [-3.31583760e-06, -7.39810901e-07, -0.00000000e+00,\n",
       "             1.74427271e-06, -4.39788028e-06],\n",
       "           [ 5.85797643e-05,  1.30699855e-05,  0.00000000e+00,\n",
       "            -3.08154667e-05,  7.76958332e-05]],\n",
       "   \n",
       "          [[-5.53163045e-05, -1.22877427e-05, -0.00000000e+00,\n",
       "             2.90771713e-05, -7.34011992e-05],\n",
       "           [ 3.31898036e-06,  7.37265054e-07,  0.00000000e+00,\n",
       "            -1.74463139e-06,  4.40407484e-06],\n",
       "           [-5.86352835e-05, -1.30250082e-05, -0.00000000e+00,\n",
       "             3.08218005e-05, -7.78052781e-05]]], dtype=float32),\n",
       "   Array([[[ 1.1052785e-05,  2.4660349e-06,  0.0000000e+00, -5.8142386e-06,\n",
       "             1.4659591e-05]],\n",
       "   \n",
       "          [[-1.1063261e-05, -2.4575486e-06, -0.0000000e+00,  5.8154342e-06,\n",
       "            -1.4680240e-05]]], dtype=float32)],\n",
       "  [Array([[[ 3.5573055e-05, -3.5659203e-05],\n",
       "           [ 1.9720786e-05, -1.9768542e-05],\n",
       "           [ 0.0000000e+00, -0.0000000e+00],\n",
       "           [ 3.7691956e-05, -3.7783237e-05],\n",
       "           [ 5.5104043e-05, -5.5237488e-05]],\n",
       "   \n",
       "          [[-3.5659203e-05,  3.5659203e-05],\n",
       "           [-1.9768542e-05,  1.9768542e-05],\n",
       "           [-0.0000000e+00,  0.0000000e+00],\n",
       "           [-3.7783237e-05,  3.7783237e-05],\n",
       "           [-5.5237488e-05,  5.5237488e-05]]], dtype=float32),\n",
       "   Array([[[ 9.357929e-06, -9.380591e-06]],\n",
       "   \n",
       "          [[-9.380591e-06,  9.380591e-06]]], dtype=float32)]],)"
      ]
     },
     "execution_count": 424,
     "metadata": {},
     "output_type": "execute_result"
    }
   ],
   "source": [
    "controller = NeuralController(3,2,[5],['relu','softmax'])\n",
    "params = controller.init_params()\n",
    "# controller.step(params, .1, jnp.array([.1]))\n",
    "e = 5.0\n",
    "eh = jnp.array([5.3])\n",
    "gradf = jax.jacrev(controller.step, argnums=[0])\n",
    "gradf(params, e, eh, controller.activation_functions)"
   ]
  },
  {
   "cell_type": "code",
   "execution_count": 405,
   "metadata": {},
   "outputs": [
    {
     "data": {
      "text/plain": [
       "Array([0.98136353, 0.01863651], dtype=float32)"
      ]
     },
     "execution_count": 405,
     "metadata": {},
     "output_type": "execute_result"
    }
   ],
   "source": [
    "controller.step(params, 5., np.array([5.3]), controller.activation_functions)"
   ]
  },
  {
   "cell_type": "code",
   "execution_count": 425,
   "metadata": {},
   "outputs": [
    {
     "data": {
      "text/plain": [
       "Array([0.74411666, 0.25588334], dtype=float32)"
      ]
     },
     "execution_count": 425,
     "metadata": {},
     "output_type": "execute_result"
    }
   ],
   "source": [
    "x = np.array([5.,-.3, 5.3])\n",
    "for (w, b) in params:\n",
    "    x = np.dot(x, w)\n",
    "    x = x + b\n",
    "    x = controller.a_func_map['softmax'](x[0])\n",
    "x"
   ]
  },
  {
   "cell_type": "code",
   "execution_count": null,
   "metadata": {},
   "outputs": [],
   "source": []
  },
  {
   "cell_type": "code",
   "execution_count": 248,
   "metadata": {},
   "outputs": [
    {
     "data": {
      "text/plain": [
       "[[array([[ 0.49978961, -0.04691856, -0.23654275],\n",
       "         [ 0.16786442,  0.68593097, -0.37783385],\n",
       "         [ 0.8752941 ,  0.77420435, -0.27676884]]),\n",
       "  array([[-0.07673257, -0.80195053, -0.90016038]])],\n",
       " [array([[ 0.51142652,  0.54541267,  0.32868851],\n",
       "         [ 0.70431015, -0.83093803, -0.41149019],\n",
       "         [-0.14195684, -0.56301722,  0.88602232]]),\n",
       "  array([[ 0.52183084, -0.59443791, -0.05034039]])],\n",
       " [array([[-0.08252038],\n",
       "         [ 0.67673539],\n",
       "         [ 0.09866737]]),\n",
       "  array([[-0.67952468]])]]"
      ]
     },
     "execution_count": 248,
     "metadata": {},
     "output_type": "execute_result"
    }
   ],
   "source": [
    "params"
   ]
  },
  {
   "cell_type": "code",
   "execution_count": 127,
   "metadata": {},
   "outputs": [
    {
     "data": {
      "text/plain": [
       "array([-7.6954402])"
      ]
     },
     "execution_count": 127,
     "metadata": {},
     "output_type": "execute_result"
    }
   ],
   "source": [
    "np.dot(np.array([5., -0.3, 10.3]), params[0][0]).flatten()"
   ]
  },
  {
   "cell_type": "code",
   "execution_count": 191,
   "metadata": {},
   "outputs": [
    {
     "data": {
      "text/plain": [
       "Array([ 0.5,  1. , -1. ], dtype=float32)"
      ]
     },
     "execution_count": 191,
     "metadata": {},
     "output_type": "execute_result"
    }
   ],
   "source": [
    "def f(x):\n",
    "    return 0.5*x[0] + 1*x[1] + -1*x[2]\n",
    "jax.grad(f)(params[0][0].flatten())"
   ]
  },
  {
   "cell_type": "code",
   "execution_count": 32,
   "metadata": {},
   "outputs": [
    {
     "ename": "TypeError",
     "evalue": "NeuralController.step() missing 3 required positional arguments: 'e', 'err_hist', and 'activation_functions'",
     "output_type": "error",
     "traceback": [
      "\u001b[1;31m---------------------------------------------------------------------------\u001b[0m",
      "\u001b[1;31mTypeError\u001b[0m                                 Traceback (most recent call last)",
      "Cell \u001b[1;32mIn[32], line 1\u001b[0m\n\u001b[1;32m----> 1\u001b[0m \u001b[43mcontroller\u001b[49m\u001b[38;5;241;43m.\u001b[39;49m\u001b[43mstep\u001b[49m\u001b[43m(\u001b[49m\u001b[43mnp\u001b[49m\u001b[38;5;241;43m.\u001b[39;49m\u001b[43marray\u001b[49m\u001b[43m(\u001b[49m\u001b[43m[\u001b[49m\u001b[38;5;241;43m1.0\u001b[39;49m\u001b[43m,\u001b[49m\u001b[38;5;241;43m1.0\u001b[39;49m\u001b[43m,\u001b[49m\u001b[38;5;241;43m1.0\u001b[39;49m\u001b[43m]\u001b[49m\u001b[43m)\u001b[49m\u001b[43m)\u001b[49m\n",
      "\u001b[1;31mTypeError\u001b[0m: NeuralController.step() missing 3 required positional arguments: 'e', 'err_hist', and 'activation_functions'"
     ]
    }
   ],
   "source": [
    "controller.step()"
   ]
  },
  {
   "cell_type": "code",
   "execution_count": 95,
   "metadata": {},
   "outputs": [
    {
     "data": {
      "text/plain": [
       "array([1., 0.])"
      ]
     },
     "execution_count": 95,
     "metadata": {},
     "output_type": "execute_result"
    }
   ],
   "source": [
    "def relu(x):\n",
    "    return (x + np.sqrt(np.power(x, 2))) / 2"
   ]
  },
  {
   "cell_type": "code",
   "execution_count": 648,
   "metadata": {},
   "outputs": [
    {
     "data": {
      "text/plain": [
       "[array([[ 6.93936637,  8.31535238],\n",
       "        [-3.55931663, -2.98522298],\n",
       "        [ 0.16114123,  3.21835643]]),\n",
       " array([[1.99536861, 1.32365364]])]"
      ]
     },
     "execution_count": 648,
     "metadata": {},
     "output_type": "execute_result"
    }
   ],
   "source": [
    "params[0]"
   ]
  },
  {
   "cell_type": "code",
   "execution_count": 634,
   "metadata": {},
   "outputs": [
    {
     "data": {
      "text/plain": [
       "[1, 1, 1]"
      ]
     },
     "execution_count": 634,
     "metadata": {},
     "output_type": "execute_result"
    }
   ],
   "source": [
    "arr = [1, 1, 1]\n",
    "for i in arr:\n",
    "    i -= 1\n",
    "arr"
   ]
  },
  {
   "cell_type": "code",
   "execution_count": 19,
   "metadata": {},
   "outputs": [
    {
     "data": {
      "text/plain": [
       "Array(1., dtype=float32, weak_type=True)"
      ]
     },
     "execution_count": 19,
     "metadata": {},
     "output_type": "execute_result"
    }
   ],
   "source": [
    "def fun(x):\n",
    "    return x\n",
    "g = jax.jacrev(fun)\n",
    "g(1.0)"
   ]
  },
  {
   "cell_type": "code",
   "execution_count": 75,
   "metadata": {},
   "outputs": [
    {
     "data": {
      "text/plain": [
       "(Array(-49.689003, dtype=float32),\n",
       " Array(-9.443693, dtype=float32, weak_type=True))"
      ]
     },
     "execution_count": 75,
     "metadata": {},
     "output_type": "execute_result"
    }
   ],
   "source": [
    "def controller(x):\n",
    "    return jnp.array([x**2, 1/(0.1 + x**2), x*jnp.sin(x)*10])\n",
    "\n",
    "def plant(x):\n",
    "    return x[0]*0.1 + x[1]*1 + x[2]*1.1\n",
    "\n",
    "def step(x):\n",
    "    U = controller(x)\n",
    "    S = plant(U)\n",
    "    return S\n",
    "\n",
    "jax.value_and_grad(step)(4.7245)\n"
   ]
  },
  {
   "cell_type": "code",
   "execution_count": 77,
   "metadata": {},
   "outputs": [
    {
     "data": {
      "image/png": "[encoded data removed]",
      "text/plain": [
       "<Figure size 640x480 with 1 Axes>"
      ]
     },
     "metadata": {},
     "output_type": "display_data"
    }
   ],
   "source": [
    "x = 5.0\n",
    "gr = jax.grad(step)\n",
    "g = gr(x)\n",
    "for i in range(1000):\n",
    "    x -= 0.01*g\n",
    "    g = gr(x)\n",
    "    if np.abs(g) < 0.01:\n",
    "        break\n",
    "xp = np.linspace(-10, 10, 100)\n",
    "yp = step(xp)\n",
    "plt.plot(xp,yp)\n",
    "plt.scatter(x, step(x))\n",
    "plt.show()"
   ]
  },
  {
   "cell_type": "code",
   "execution_count": null,
   "metadata": {},
   "outputs": [],
   "source": []
  },
  {
   "cell_type": "code",
   "execution_count": 588,
   "metadata": {},
   "outputs": [
    {
     "data": {
      "text/plain": [
       "Array(7.98943, dtype=float32)"
      ]
     },
     "execution_count": 588,
     "metadata": {},
     "output_type": "execute_result"
    }
   ],
   "source": [
    "controller.step(params, 1, jnp.array([1]))"
   ]
  },
  {
   "cell_type": "code",
   "execution_count": 603,
   "metadata": {},
   "outputs": [
    {
     "data": {
      "text/plain": [
       "([[Array([[-0., -0.],\n",
       "          [-0., -0.],\n",
       "          [-0., -0.]], dtype=float32),\n",
       "   Array([[-0., -0.]], dtype=float32)],\n",
       "  [Array([[0., 0.],\n",
       "          [0., 0.]], dtype=float32),\n",
       "   Array([[7.577401, 5.595716]], dtype=float32)],\n",
       "  [Array([[1.7093694],\n",
       "          [5.2147217]], dtype=float32),\n",
       "   Array([[1.]], dtype=float32)]],\n",
       " Array([10. ,  9.5,  9. ,  8.5,  8. ,  7.5,  7. ,  6.5,  6. ,  5.5,  5. ,\n",
       "         4.5,  4. ,  3.5,  3. ,  2.5], dtype=float32))"
      ]
     },
     "execution_count": 603,
     "metadata": {},
     "output_type": "execute_result"
    }
   ],
   "source": [
    "g = gradf(params, e, eh)\n",
    "params = controller.update_params(params, 0.1, g)\n",
    "e -= 0.5\n",
    "eh = jnp.append(eh, e)\n",
    "g, eh"
   ]
  },
  {
   "cell_type": "code",
   "execution_count": null,
   "metadata": {},
   "outputs": [],
   "source": []
  },
  {
   "cell_type": "code",
   "execution_count": 7,
   "metadata": {},
   "outputs": [
    {
     "data": {
      "text/plain": [
       "Array(1., dtype=float32)"
      ]
     },
     "execution_count": 7,
     "metadata": {},
     "output_type": "execute_result"
    }
   ],
   "source": [
    "def mse(y, y_hat):\n",
    "    return jnp.mean((y - y_hat)**2)\n",
    "\n",
    "y = jnp.array([1,1,2,0])\n",
    "y_hat = jnp.array([1,1,2,2])\n",
    "mse(y, y_hat)"
   ]
  },
  {
   "cell_type": "code",
   "execution_count": 22,
   "metadata": {},
   "outputs": [],
   "source": [
    "def f(p):\n",
    "    return p[0]*p[1] + p[1]\n",
    "\n",
    "gradfunc = jax.value_and_grad(f)\n",
    "\n",
    "params = [5.0, 5.0]\n",
    "for i in range(10):\n",
    "    v, g = gradfunc(params)\n",
    "    g = np.array(g)\n",
    "    params -= 0.01 * g"
   ]
  },
  {
   "cell_type": "code",
   "execution_count": 134,
   "metadata": {},
   "outputs": [],
   "source": [
    "\n",
    "class Controller:\n",
    "    def step(self, params, e, hist):\n",
    "        de = e - hist[-1]\n",
    "        ie = jnp.sum(hist) + e\n",
    "\n",
    "        hist = jnp.append(hist, e)\n",
    "\n",
    "        kp, kd, ki = params\n",
    "        return (kp*e + kd*de + ki*ie).item()\n",
    "        \n",
    "    def reset(self):\n",
    "        return jnp.array([0])\n",
    "    \n",
    "    def reset_params(self):\n",
    "        return jnp.array([0,0,0])\n",
    "\n",
    "    def update_params(self, params, gradient):\n",
    "        return params - 0.01*gradient\n",
    "\n",
    "controller = Controller()"
   ]
  },
  {
   "cell_type": "code",
   "execution_count": null,
   "metadata": {},
   "outputs": [],
   "source": [
    "params = controller.reset_params()\n",
    "\n",
    "gradfunc = jax.value_and_grad(controller.step)\n",
    "for i in range(2):\n",
    "    hist = controller.reset()\n",
    "    e = 1/i\n",
    "\n",
    "    controller.step(,)\n",
    "    gradient = gradfunc(params, e, hist )\n",
    "    params = controller.update_params(params, gradient)\n",
    "\n",
    "\n",
    "\n"
   ]
  },
  {
   "cell_type": "code",
   "execution_count": 1,
   "metadata": {},
   "outputs": [
    {
     "ename": "TypeError",
     "evalue": "can't multiply sequence by non-int of type 'float'",
     "output_type": "error",
     "traceback": [
      "\u001b[1;31m---------------------------------------------------------------------------\u001b[0m",
      "\u001b[1;31mTypeError\u001b[0m                                 Traceback (most recent call last)",
      "Cell \u001b[1;32mIn[1], line 5\u001b[0m\n\u001b[0;32m      1\u001b[0m a \u001b[38;5;241m=\u001b[39m [\n\u001b[0;32m      2\u001b[0m     [\u001b[38;5;241m1\u001b[39m,\u001b[38;5;241m2\u001b[39m,\u001b[38;5;241m3\u001b[39m],\n\u001b[0;32m      3\u001b[0m     [\u001b[38;5;241m1\u001b[39m,\u001b[38;5;241m2\u001b[39m,\u001b[38;5;241m3\u001b[39m],\n\u001b[0;32m      4\u001b[0m     ]\n\u001b[1;32m----> 5\u001b[0m a \u001b[38;5;241m-\u001b[39m \u001b[38;5;241;43m0.2\u001b[39;49m\u001b[38;5;241;43m*\u001b[39;49m\u001b[43ma\u001b[49m\n",
      "\u001b[1;31mTypeError\u001b[0m: can't multiply sequence by non-int of type 'float'"
     ]
    }
   ],
   "source": [
    "controller"
   ]
  },
  {
   "cell_type": "code",
   "execution_count": 140,
   "metadata": {},
   "outputs": [
    {
     "data": {
      "text/plain": [
       "4"
      ]
     },
     "execution_count": 140,
     "metadata": {},
     "output_type": "execute_result"
    }
   ],
   "source": []
  },
  {
   "cell_type": "code",
   "execution_count": 138,
   "metadata": {},
   "outputs": [],
   "source": [
    "g = jax.grad(controller.step)\n",
    "\n",
    "gradient = g(params, e, hist)\n",
    "params = controller.update_params(params, gradient)"
   ]
  },
  {
   "cell_type": "code",
   "execution_count": null,
   "metadata": {},
   "outputs": [],
   "source": [
    "g()"
   ]
  },
  {
   "cell_type": "code",
   "execution_count": 133,
   "metadata": {},
   "outputs": [
    {
     "data": {
      "text/plain": [
       "(17, Array([0, 1, 1, 1, 1, 1, 1, 1, 1], dtype=int32))"
      ]
     },
     "execution_count": 133,
     "metadata": {},
     "output_type": "execute_result"
    }
   ],
   "source": [
    "controller.step(1), controller.hist"
   ]
  }
 ],
 "metadata": {
  "kernelspec": {
   "display_name": "Python 3",
   "language": "python",
   "name": "python3"
  },
  "language_info": {
   "codemirror_mode": {
    "name": "ipython",
    "version": 3
   },
   "file_extension": ".py",
   "mimetype": "text/x-python",
   "name": "python",
   "nbconvert_exporter": "python",
   "pygments_lexer": "ipython3",
   "version": "3.10.11"
  }
 },
 "nbformat": 4,
 "nbformat_minor": 2
}
