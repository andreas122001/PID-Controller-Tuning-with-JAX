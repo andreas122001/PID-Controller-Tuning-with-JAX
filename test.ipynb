{
 "cells": [
  {
   "cell_type": "code",
   "execution_count": 39,
   "metadata": {},
   "outputs": [],
   "source": [
    "import numpy as np\n",
    "import jax\n",
    "import jax.numpy as jnp\n",
    "from tqdm import tqdm\n",
    "from abc import ABC, abstractmethod, abstractclassmethod\n",
    "import matplotlib.pyplot as plt"
   ]
  },
  {
   "cell_type": "code",
   "execution_count": 2,
   "metadata": {},
   "outputs": [],
   "source": [
    "class AbstractController(ABC):\n",
    "    def __init__(self) -> None:\n",
    "        super().__init__()\n",
    "\n",
    "    @abstractmethod\n",
    "    def step(self, params, e, err_hist):\n",
    "        pass\n",
    "\n",
    "    def reset_error(self):\n",
    "        return jnp.array([])\n",
    "\n",
    "    @abstractmethod\n",
    "    def init_params(self):\n",
    "        pass\n",
    "\n",
    "    def update_params(self, params, lr, gradient):\n",
    "        return params - lr*gradient"
   ]
  },
  {
   "cell_type": "code",
   "execution_count": 4,
   "metadata": {},
   "outputs": [],
   "source": [
    "class NeuralController(AbstractController):\n",
    "    a_func_map = {\n",
    "        'relu': lambda x: jnp.maximum(x, 0),\n",
    "        'sigmoid': lambda x: 1 / (1 + jnp.exp(-x)),\n",
    "        'tanh': lambda x: jnp.tanh(x),\n",
    "        'leaky_relu': lambda x: jnp.maximum(x, 0.01*x),\n",
    "        'softmax': lambda x: jnp.exp(x - jnp.max(x)) / jnp.exp(x - jnp.max(x)).sum(axis=0), # assumes multi-variable input\n",
    "        'linear': lambda x: x,\n",
    "    }\n",
    "\n",
    "    def __init__(self, inputs, outputs, hidden_layers, a_funcs) -> None:\n",
    "        super().__init__()\n",
    "        self.activation_functions = a_funcs\n",
    "        self.layers = np.concatenate(([inputs], hidden_layers, [outputs])).astype(int)\n",
    "\n",
    "    def step(self, params, e, err_hist, activation_functions) -> jax.Array:\n",
    "        de = (e - err_hist[-1])\n",
    "        ie = jnp.sum(jnp.array(err_hist))\n",
    "        x = jnp.array([e,de,ie])\n",
    "\n",
    "        for (w, b), a_func in zip(params, activation_functions):\n",
    "            a = self.a_func_map[a_func.lower()]\n",
    "            x = jnp.dot(x, w) + b\n",
    "            x = a(x.flatten())\n",
    "        return x.flatten()\n",
    "\n",
    "    def init_params(self):\n",
    "        sender = self.layers[0]\n",
    "        params = []\n",
    "        for receiver in self.layers[1:]:\n",
    "            weights = np.random.uniform(-1, 1, (sender, receiver))\n",
    "            biases = np.random.uniform(-1, 1, (1, receiver))\n",
    "            sender = receiver\n",
    "            params.append([weights, biases])\n",
    "        return params\n",
    "\n",
    "    def update_params(self, params, lr, gradient):\n",
    "        for i, (w_grad, b_grad) in enumerate(gradient):\n",
    "            params[i][0] -= lr*w_grad\n",
    "            params[i][1] -= lr*b_grad\n",
    "        return params"
   ]
  },
  {
   "cell_type": "code",
   "execution_count": 5,
   "metadata": {},
   "outputs": [
    {
     "data": {
      "text/plain": [
       "([[Array([[[ 0.        , -0.        , -0.        , -0.07981679,\n",
       "            -0.        ],\n",
       "           [-0.        ,  0.        ,  0.        ,  0.00478901,\n",
       "             0.        ],\n",
       "           [ 0.        , -0.        , -0.        , -0.0846058 ,\n",
       "            -0.        ]],\n",
       "   \n",
       "          [[-0.        ,  0.        ,  0.        ,  0.07981684,\n",
       "             0.        ],\n",
       "           [ 0.        , -0.        , -0.        , -0.00478901,\n",
       "            -0.        ],\n",
       "           [-0.        ,  0.        ,  0.        ,  0.08460586,\n",
       "             0.        ]]], dtype=float32),\n",
       "   Array([[[ 0.        , -0.        , -0.        , -0.01596336,\n",
       "            -0.        ]],\n",
       "   \n",
       "          [[-0.        ,  0.        ,  0.        ,  0.01596337,\n",
       "             0.        ]]], dtype=float32)],\n",
       "  [Array([[[ 0.        , -0.        ],\n",
       "           [ 0.        , -0.        ],\n",
       "           [ 0.        , -0.        ],\n",
       "           [ 0.10229971, -0.10229971],\n",
       "           [ 0.        , -0.        ]],\n",
       "   \n",
       "          [[-0.        ,  0.        ],\n",
       "           [-0.        ,  0.        ],\n",
       "           [-0.        ,  0.        ],\n",
       "           [-0.1022997 ,  0.10229977],\n",
       "           [-0.        ,  0.        ]]], dtype=float32),\n",
       "   Array([[[ 0.02425937, -0.02425937]],\n",
       "   \n",
       "          [[-0.02425937,  0.02425939]]], dtype=float32)]],)"
      ]
     },
     "execution_count": 5,
     "metadata": {},
     "output_type": "execute_result"
    }
   ],
   "source": [
    "controller = NeuralController(3,2,[5],['relu','softmax'])\n",
    "params = controller.init_params()\n",
    "# controller.step(params, .1, jnp.array([.1]))\n",
    "e = 5.0\n",
    "eh = jnp.array([5.3])\n",
    "gradf = jax.jacrev(controller.step, argnums=[0])\n",
    "gradf(params, e, eh, controller.activation_functions)"
   ]
  },
  {
   "cell_type": "code",
   "execution_count": 405,
   "metadata": {},
   "outputs": [
    {
     "data": {
      "text/plain": [
       "Array([0.98136353, 0.01863651], dtype=float32)"
      ]
     },
     "execution_count": 405,
     "metadata": {},
     "output_type": "execute_result"
    }
   ],
   "source": [
    "controller.step(params, 5., np.array([5.3]), controller.activation_functions)"
   ]
  },
  {
   "cell_type": "code",
   "execution_count": 425,
   "metadata": {},
   "outputs": [
    {
     "data": {
      "text/plain": [
       "Array([0.74411666, 0.25588334], dtype=float32)"
      ]
     },
     "execution_count": 425,
     "metadata": {},
     "output_type": "execute_result"
    }
   ],
   "source": [
    "x = np.array([5.,-.3, 5.3])\n",
    "for (w, b) in params:\n",
    "    x = np.dot(x, w)\n",
    "    x = x + b\n",
    "    x = controller.a_func_map['softmax'](x[0])\n",
    "x"
   ]
  },
  {
   "cell_type": "code",
   "execution_count": 14,
   "metadata": {},
   "outputs": [],
   "source": [
    "class Test:\n",
    "    consts = [lambda x: x*x, 5, 5]\n",
    "    def f(self, x, err_hist):\n",
    "        err_hist = jnp.append(err_hist, x)\n",
    "        return jnp.sum(err_hist)*x\n",
    "F = Test()"
   ]
  },
  {
   "cell_type": "code",
   "execution_count": 22,
   "metadata": {},
   "outputs": [
    {
     "data": {
      "text/plain": [
       "Array(1., dtype=float32)"
      ]
     },
     "execution_count": 22,
     "metadata": {},
     "output_type": "execute_result"
    }
   ],
   "source": [
    "err_hist = np.array([])\n",
    "jax.jit(F.f)(1., err_hist)"
   ]
  },
  {
   "cell_type": "code",
   "execution_count": 34,
   "metadata": {},
   "outputs": [
    {
     "data": {
      "text/plain": [
       "Array(12., dtype=float32, weak_type=True)"
      ]
     },
     "execution_count": 34,
     "metadata": {},
     "output_type": "execute_result"
    }
   ],
   "source": [
    "\n",
    "def loop(x, t):\n",
    "    for i in range(int(t)):\n",
    "        x += 1\n",
    "    return x\n",
    "jax.jit(loop, static_argnames=['t'])(2., 10.)"
   ]
  },
  {
   "cell_type": "code",
   "execution_count": 248,
   "metadata": {},
   "outputs": [
    {
     "data": {
      "text/plain": [
       "[[array([[ 0.49978961, -0.04691856, -0.23654275],\n",
       "         [ 0.16786442,  0.68593097, -0.37783385],\n",
       "         [ 0.8752941 ,  0.77420435, -0.27676884]]),\n",
       "  array([[-0.07673257, -0.80195053, -0.90016038]])],\n",
       " [array([[ 0.51142652,  0.54541267,  0.32868851],\n",
       "         [ 0.70431015, -0.83093803, -0.41149019],\n",
       "         [-0.14195684, -0.56301722,  0.88602232]]),\n",
       "  array([[ 0.52183084, -0.59443791, -0.05034039]])],\n",
       " [array([[-0.08252038],\n",
       "         [ 0.67673539],\n",
       "         [ 0.09866737]]),\n",
       "  array([[-0.67952468]])]]"
      ]
     },
     "execution_count": 248,
     "metadata": {},
     "output_type": "execute_result"
    }
   ],
   "source": [
    "params"
   ]
  },
  {
   "cell_type": "code",
   "execution_count": 127,
   "metadata": {},
   "outputs": [
    {
     "data": {
      "text/plain": [
       "array([-7.6954402])"
      ]
     },
     "execution_count": 127,
     "metadata": {},
     "output_type": "execute_result"
    }
   ],
   "source": [
    "np.dot(np.array([5., -0.3, 10.3]), params[0][0]).flatten()"
   ]
  },
  {
   "cell_type": "code",
   "execution_count": 191,
   "metadata": {},
   "outputs": [
    {
     "data": {
      "text/plain": [
       "Array([ 0.5,  1. , -1. ], dtype=float32)"
      ]
     },
     "execution_count": 191,
     "metadata": {},
     "output_type": "execute_result"
    }
   ],
   "source": [
    "def f(x):\n",
    "    return 0.5*x[0] + 1*x[1] + -1*x[2]\n",
    "jax.grad(f)(params[0][0].flatten())"
   ]
  },
  {
   "cell_type": "code",
   "execution_count": 32,
   "metadata": {},
   "outputs": [
    {
     "ename": "TypeError",
     "evalue": "NeuralController.step() missing 3 required positional arguments: 'e', 'err_hist', and 'activation_functions'",
     "output_type": "error",
     "traceback": [
      "\u001b[1;31m---------------------------------------------------------------------------\u001b[0m",
      "\u001b[1;31mTypeError\u001b[0m                                 Traceback (most recent call last)",
      "Cell \u001b[1;32mIn[32], line 1\u001b[0m\n\u001b[1;32m----> 1\u001b[0m \u001b[43mcontroller\u001b[49m\u001b[38;5;241;43m.\u001b[39;49m\u001b[43mstep\u001b[49m\u001b[43m(\u001b[49m\u001b[43mnp\u001b[49m\u001b[38;5;241;43m.\u001b[39;49m\u001b[43marray\u001b[49m\u001b[43m(\u001b[49m\u001b[43m[\u001b[49m\u001b[38;5;241;43m1.0\u001b[39;49m\u001b[43m,\u001b[49m\u001b[38;5;241;43m1.0\u001b[39;49m\u001b[43m,\u001b[49m\u001b[38;5;241;43m1.0\u001b[39;49m\u001b[43m]\u001b[49m\u001b[43m)\u001b[49m\u001b[43m)\u001b[49m\n",
      "\u001b[1;31mTypeError\u001b[0m: NeuralController.step() missing 3 required positional arguments: 'e', 'err_hist', and 'activation_functions'"
     ]
    }
   ],
   "source": [
    "controller.step()"
   ]
  },
  {
   "cell_type": "code",
   "execution_count": 95,
   "metadata": {},
   "outputs": [
    {
     "data": {
      "text/plain": [
       "array([1., 0.])"
      ]
     },
     "execution_count": 95,
     "metadata": {},
     "output_type": "execute_result"
    }
   ],
   "source": [
    "def relu(x):\n",
    "    return (x + np.sqrt(np.power(x, 2))) / 2"
   ]
  },
  {
   "cell_type": "code",
   "execution_count": 648,
   "metadata": {},
   "outputs": [
    {
     "data": {
      "text/plain": [
       "[array([[ 6.93936637,  8.31535238],\n",
       "        [-3.55931663, -2.98522298],\n",
       "        [ 0.16114123,  3.21835643]]),\n",
       " array([[1.99536861, 1.32365364]])]"
      ]
     },
     "execution_count": 648,
     "metadata": {},
     "output_type": "execute_result"
    }
   ],
   "source": [
    "params[0]"
   ]
  },
  {
   "cell_type": "code",
   "execution_count": 634,
   "metadata": {},
   "outputs": [
    {
     "data": {
      "text/plain": [
       "[1, 1, 1]"
      ]
     },
     "execution_count": 634,
     "metadata": {},
     "output_type": "execute_result"
    }
   ],
   "source": [
    "arr = [1, 1, 1]\n",
    "for i in arr:\n",
    "    i -= 1\n",
    "arr"
   ]
  },
  {
   "cell_type": "code",
   "execution_count": 19,
   "metadata": {},
   "outputs": [
    {
     "data": {
      "text/plain": [
       "Array(1., dtype=float32, weak_type=True)"
      ]
     },
     "execution_count": 19,
     "metadata": {},
     "output_type": "execute_result"
    }
   ],
   "source": [
    "def fun(x):\n",
    "    return x\n",
    "g = jax.jacrev(fun)\n",
    "g(1.0)"
   ]
  },
  {
   "cell_type": "code",
   "execution_count": 75,
   "metadata": {},
   "outputs": [
    {
     "data": {
      "text/plain": [
       "(Array(-49.689003, dtype=float32),\n",
       " Array(-9.443693, dtype=float32, weak_type=True))"
      ]
     },
     "execution_count": 75,
     "metadata": {},
     "output_type": "execute_result"
    }
   ],
   "source": [
    "def controller(x):\n",
    "    return jnp.array([x**2, 1/(0.1 + x**2), x*jnp.sin(x)*10])\n",
    "\n",
    "def plant(x):\n",
    "    return x[0]*0.1 + x[1]*1 + x[2]*1.1\n",
    "\n",
    "def step(x):\n",
    "    U = controller(x)\n",
    "    S = plant(U)\n",
    "    return S\n",
    "\n",
    "jax.value_and_grad(step)(4.7245)\n"
   ]
  },
  {
   "cell_type": "code",
   "execution_count": 77,
   "metadata": {},
   "outputs": [
    {
     "data": {
      "image/png": "[encoded data removed]",
      "text/plain": [
       "<Figure size 640x480 with 1 Axes>"
      ]
     },
     "metadata": {},
     "output_type": "display_data"
    }
   ],
   "source": [
    "x = 5.0\n",
    "gr = jax.grad(step)\n",
    "g = gr(x)\n",
    "for i in range(1000):\n",
    "    x -= 0.01*g\n",
    "    g = gr(x)\n",
    "    if np.abs(g) < 0.01:\n",
    "        break\n",
    "xp = np.linspace(-10, 10, 100)\n",
    "yp = step(xp)\n",
    "plt.plot(xp,yp)\n",
    "plt.scatter(x, step(x))\n",
    "plt.show()"
   ]
  },
  {
   "cell_type": "code",
   "execution_count": null,
   "metadata": {},
   "outputs": [],
   "source": []
  },
  {
   "cell_type": "code",
   "execution_count": 588,
   "metadata": {},
   "outputs": [
    {
     "data": {
      "text/plain": [
       "Array(7.98943, dtype=float32)"
      ]
     },
     "execution_count": 588,
     "metadata": {},
     "output_type": "execute_result"
    }
   ],
   "source": [
    "controller.step(params, 1, jnp.array([1]))"
   ]
  },
  {
   "cell_type": "code",
   "execution_count": 603,
   "metadata": {},
   "outputs": [
    {
     "data": {
      "text/plain": [
       "([[Array([[-0., -0.],\n",
       "          [-0., -0.],\n",
       "          [-0., -0.]], dtype=float32),\n",
       "   Array([[-0., -0.]], dtype=float32)],\n",
       "  [Array([[0., 0.],\n",
       "          [0., 0.]], dtype=float32),\n",
       "   Array([[7.577401, 5.595716]], dtype=float32)],\n",
       "  [Array([[1.7093694],\n",
       "          [5.2147217]], dtype=float32),\n",
       "   Array([[1.]], dtype=float32)]],\n",
       " Array([10. ,  9.5,  9. ,  8.5,  8. ,  7.5,  7. ,  6.5,  6. ,  5.5,  5. ,\n",
       "         4.5,  4. ,  3.5,  3. ,  2.5], dtype=float32))"
      ]
     },
     "execution_count": 603,
     "metadata": {},
     "output_type": "execute_result"
    }
   ],
   "source": [
    "g = gradf(params, e, eh)\n",
    "params = controller.update_params(params, 0.1, g)\n",
    "e -= 0.5\n",
    "eh = jnp.append(eh, e)\n",
    "g, eh"
   ]
  },
  {
   "cell_type": "code",
   "execution_count": null,
   "metadata": {},
   "outputs": [],
   "source": []
  },
  {
   "cell_type": "code",
   "execution_count": 7,
   "metadata": {},
   "outputs": [
    {
     "data": {
      "text/plain": [
       "Array(1., dtype=float32)"
      ]
     },
     "execution_count": 7,
     "metadata": {},
     "output_type": "execute_result"
    }
   ],
   "source": [
    "def mse(y, y_hat):\n",
    "    return jnp.mean((y - y_hat)**2)\n",
    "\n",
    "y = jnp.array([1,1,2,0])\n",
    "y_hat = jnp.array([1,1,2,2])\n",
    "mse(y, y_hat)"
   ]
  },
  {
   "cell_type": "code",
   "execution_count": 22,
   "metadata": {},
   "outputs": [],
   "source": [
    "def f(p):\n",
    "    return p[0]*p[1] + p[1]\n",
    "\n",
    "gradfunc = jax.value_and_grad(f)\n",
    "\n",
    "params = [5.0, 5.0]\n",
    "for i in range(10):\n",
    "    v, g = gradfunc(params)\n",
    "    g = np.array(g)\n",
    "    params -= 0.01 * g"
   ]
  },
  {
   "cell_type": "code",
   "execution_count": 134,
   "metadata": {},
   "outputs": [],
   "source": [
    "\n",
    "class Controller:\n",
    "    def step(self, params, e, hist):\n",
    "        de = e - hist[-1]\n",
    "        ie = jnp.sum(hist) + e\n",
    "\n",
    "        hist = jnp.append(hist, e)\n",
    "\n",
    "        kp, kd, ki = params\n",
    "        return (kp*e + kd*de + ki*ie).item()\n",
    "        \n",
    "    def reset(self):\n",
    "        return jnp.array([0])\n",
    "    \n",
    "    def reset_params(self):\n",
    "        return jnp.array([0,0,0])\n",
    "\n",
    "    def update_params(self, params, gradient):\n",
    "        return params - 0.01*gradient\n",
    "\n",
    "controller = Controller()"
   ]
  },
  {
   "cell_type": "code",
   "execution_count": null,
   "metadata": {},
   "outputs": [],
   "source": [
    "params = controller.reset_params()\n",
    "\n",
    "gradfunc = jax.value_and_grad(controller.step)\n",
    "for i in range(2):\n",
    "    hist = controller.reset()\n",
    "    e = 1/i\n",
    "\n",
    "    controller.step(,)\n",
    "    gradient = gradfunc(params, e, hist )\n",
    "    params = controller.update_params(params, gradient)\n",
    "\n",
    "\n",
    "\n"
   ]
  },
  {
   "cell_type": "code",
   "execution_count": 1,
   "metadata": {},
   "outputs": [
    {
     "ename": "TypeError",
     "evalue": "can't multiply sequence by non-int of type 'float'",
     "output_type": "error",
     "traceback": [
      "\u001b[1;31m---------------------------------------------------------------------------\u001b[0m",
      "\u001b[1;31mTypeError\u001b[0m                                 Traceback (most recent call last)",
      "Cell \u001b[1;32mIn[1], line 5\u001b[0m\n\u001b[0;32m      1\u001b[0m a \u001b[38;5;241m=\u001b[39m [\n\u001b[0;32m      2\u001b[0m     [\u001b[38;5;241m1\u001b[39m,\u001b[38;5;241m2\u001b[39m,\u001b[38;5;241m3\u001b[39m],\n\u001b[0;32m      3\u001b[0m     [\u001b[38;5;241m1\u001b[39m,\u001b[38;5;241m2\u001b[39m,\u001b[38;5;241m3\u001b[39m],\n\u001b[0;32m      4\u001b[0m     ]\n\u001b[1;32m----> 5\u001b[0m a \u001b[38;5;241m-\u001b[39m \u001b[38;5;241;43m0.2\u001b[39;49m\u001b[38;5;241;43m*\u001b[39;49m\u001b[43ma\u001b[49m\n",
      "\u001b[1;31mTypeError\u001b[0m: can't multiply sequence by non-int of type 'float'"
     ]
    }
   ],
   "source": [
    "controller"
   ]
  },
  {
   "cell_type": "code",
   "execution_count": 140,
   "metadata": {},
   "outputs": [
    {
     "data": {
      "text/plain": [
       "4"
      ]
     },
     "execution_count": 140,
     "metadata": {},
     "output_type": "execute_result"
    }
   ],
   "source": []
  },
  {
   "cell_type": "code",
   "execution_count": 138,
   "metadata": {},
   "outputs": [],
   "source": [
    "g = jax.grad(controller.step)\n",
    "\n",
    "gradient = g(params, e, hist)\n",
    "params = controller.update_params(params, gradient)"
   ]
  },
  {
   "cell_type": "code",
   "execution_count": null,
   "metadata": {},
   "outputs": [],
   "source": [
    "g()"
   ]
  },
  {
   "cell_type": "code",
   "execution_count": null,
   "metadata": {},
   "outputs": [],
   "source": []
  },
  {
   "cell_type": "code",
   "execution_count": 40,
   "metadata": {},
   "outputs": [],
   "source": [
    "import numpy as np\n",
    "import jax\n",
    "import jax.numpy as jnp\n",
    "import matplotlib.pyplot as plt\n",
    "from controller import NeuralController\n",
    "from plant import BathtubPlant\n",
    "\n",
    "controller = NeuralController(3,1, [], ['linear'])\n",
    "plant = BathtubPlant(5.)"
   ]
  },
  {
   "cell_type": "code",
   "execution_count": 13,
   "metadata": {},
   "outputs": [
    {
     "data": {
      "text/plain": [
       "(Array(2.4952376, dtype=float32),\n",
       " [[Array([[-0.16617365],\n",
       "          [-0.53197396],\n",
       "          [-0.        ]], dtype=float32),\n",
       "   Array([[-0.5718249]], dtype=float32)]])"
      ]
     },
     "execution_count": 13,
     "metadata": {},
     "output_type": "execute_result"
    }
   ],
   "source": [
    "def _step_once(params, state, error, err_hist, target, noise):\n",
    "    # Update plant and controller\n",
    "    U = controller.step(params, error, err_hist)\n",
    "    new_state = plant.step(state, U, noise)\n",
    "\n",
    "    # Calculate error\n",
    "    new_error = target - new_state\n",
    "    err_hist = jnp.append(err_hist, new_error)\n",
    "    return new_state, new_error, err_hist\n",
    "\n",
    "@jax.value_and_grad\n",
    "def sim(params, state, target, noise_vector, steps):\n",
    "\n",
    "    error = target - state\n",
    "    err_hist = jnp.array([error])\n",
    "    for t in range(steps):\n",
    "        # Perform one step\n",
    "        state, error, err_hist = _step_once(\n",
    "            params, state, error, err_hist, target, noise_vector[t]\n",
    "        )\n",
    "        \n",
    "    return jnp.sum(jnp.array([e**2 for e in err_hist]))\n",
    "\n",
    "# Initialization\n",
    "params = controller.init_params()\n",
    "\n",
    "# For each epoch\n",
    "state, target = plant.reset()\n",
    "jit = jax.jit(sim, static_argnames=['steps'])\n",
    "res = jit(params, state, target, np.random.rand(10), 10)\n",
    "res"
   ]
  },
  {
   "cell_type": "code",
   "execution_count": 51,
   "metadata": {},
   "outputs": [
    {
     "data": {
      "text/plain": [
       "Array(4., dtype=float32, weak_type=True)"
      ]
     },
     "execution_count": 51,
     "metadata": {},
     "output_type": "execute_result"
    }
   ],
   "source": [
    "class Test:\n",
    "    def calc(self, x):\n",
    "        return x**2\n",
    "    def d_calc(self, x):\n",
    "        return jax.grad(self.calc)(x)\n",
    "Test().d_calc(2.)\n"
   ]
  },
  {
   "cell_type": "code",
   "execution_count": 208,
   "metadata": {},
   "outputs": [],
   "source": [
    "log = []\n",
    "\n",
    "class Test:\n",
    "    const = 5.\n",
    "    def f(self, x):\n",
    "        return self.const * x\n",
    "F = Test()"
   ]
  },
  {
   "cell_type": "code",
   "execution_count": 215,
   "metadata": {},
   "outputs": [
    {
     "data": {
      "text/plain": [
       "Array(5., dtype=float32, weak_type=True)"
      ]
     },
     "execution_count": 215,
     "metadata": {},
     "output_type": "execute_result"
    }
   ],
   "source": [
    "jax.jit(jax.grad(F.f))(4.)"
   ]
  },
  {
   "cell_type": "code",
   "execution_count": 109,
   "metadata": {},
   "outputs": [],
   "source": [
    "def fun(x):\n",
    "    for i in range(10000):\n",
    "        x += 1\n",
    "    return x\n",
    "f = jax.jit(jax.grad(fun))"
   ]
  },
  {
   "cell_type": "code",
   "execution_count": 89,
   "metadata": {},
   "outputs": [
    {
     "data": {
      "text/plain": [
       "0"
      ]
     },
     "execution_count": 89,
     "metadata": {},
     "output_type": "execute_result"
    }
   ],
   "source": [
    "def a(b,c):\n",
    "    return 0\n",
    "a(*[1,1])"
   ]
  },
  {
   "cell_type": "code",
   "execution_count": 10,
   "metadata": {},
   "outputs": [
    {
     "data": {
      "text/plain": [
       "(Array(11.37813, dtype=float32),\n",
       " [[Array([[-1.0107554],\n",
       "          [-3.8551273],\n",
       "          [-0.       ]], dtype=float32),\n",
       "   Array([[-1.2620955]], dtype=float32)]])"
      ]
     },
     "execution_count": 10,
     "metadata": {},
     "output_type": "execute_result"
    }
   ],
   "source": [
    "sim(params, state, target, np.random.rand(10))"
   ]
  },
  {
   "cell_type": "code",
   "execution_count": 25,
   "metadata": {},
   "outputs": [
    {
     "data": {
      "text/plain": [
       "Array(1., dtype=float32, weak_type=True)"
      ]
     },
     "execution_count": 25,
     "metadata": {},
     "output_type": "execute_result"
    }
   ],
   "source": [
    "@jax.jit\n",
    "def f(x):\n",
    "    return x**2\n",
    "g = jax.grad(g)\n",
    "g = jax.jit(f)\n",
    "g(1.)"
   ]
  },
  {
   "cell_type": "code",
   "execution_count": null,
   "metadata": {},
   "outputs": [],
   "source": [
    "class Cont2:\n",
    "    def step():\n",
    "        pass"
   ]
  },
  {
   "cell_type": "code",
   "execution_count": 59,
   "metadata": {},
   "outputs": [
    {
     "data": {
      "text/plain": [
       "Array(8., dtype=float32, weak_type=True)"
      ]
     },
     "execution_count": 59,
     "metadata": {},
     "output_type": "execute_result"
    }
   ],
   "source": [
    "def inner(arr):\n",
    "    return jnp.sum(arr)\n",
    "\n",
    "def outer(n0, n):\n",
    "    arr = jnp.array([n0])\n",
    "    for _ in range(int(n)):\n",
    "        arr = jnp.append(arr, inner(arr))\n",
    "    return jnp.sum(arr)\n",
    "\n",
    "g = jax.grad(outer)\n",
    "g = jax.jit(g, static_argnums=[1])\n",
    "g(1., 3.)\n",
    "# outer(1., 2.)"
   ]
  },
  {
   "cell_type": "code",
   "execution_count": 48,
   "metadata": {},
   "outputs": [
    {
     "data": {
      "text/plain": [
       "[<matplotlib.lines.Line2D at 0x173e3c8baf0>]"
      ]
     },
     "execution_count": 48,
     "metadata": {},
     "output_type": "execute_result"
    },
    {
     "data": {
      "image/png": "[encoded data removed]",
      "text/plain": [
       "<Figure size 640x480 with 1 Axes>"
      ]
     },
     "metadata": {},
     "output_type": "display_data"
    }
   ],
   "source": [
    "x = np.linspace(0, 10, 10)\n",
    "y = np.array([outer(xi, 2.) for xi in x])\n",
    "plt.plot(x,y)\n",
    "plt.plot(x, 2**x)"
   ]
  },
  {
   "cell_type": "code",
   "execution_count": 38,
   "metadata": {},
   "outputs": [
    {
     "data": {
      "text/plain": [
       "14"
      ]
     },
     "execution_count": 38,
     "metadata": {},
     "output_type": "execute_result"
    }
   ],
   "source": [
    "a = np.array([1,2,3])\n",
    "b = np.array([1,2,3])\n",
    "\n",
    "np.dot(a,b)"
   ]
  },
  {
   "cell_type": "code",
   "execution_count": 193,
   "metadata": {},
   "outputs": [
    {
     "data": {
      "text/plain": [
       "[[array([[-0.77381592,  0.65954303],\n",
       "         [-0.38216253,  0.4078683 ],\n",
       "         [-0.97837197, -0.84118345]]),\n",
       "  array([[ 0.1296642, -0.3155878]])],\n",
       " [array([[-0.13922578],\n",
       "         [ 0.01645242]]),\n",
       "  array([[0.30869945]])]]"
      ]
     },
     "execution_count": 193,
     "metadata": {},
     "output_type": "execute_result"
    }
   ],
   "source": [
    "layers = [3,2,1]\n",
    "sender = layers[0]\n",
    "params = []\n",
    "for receiver in layers[1:]:\n",
    "    weights = np.random.uniform(-1, 1, (sender, receiver))\n",
    "    biases = np.random.uniform(-1, 1, (1, receiver))\n",
    "    sender = receiver\n",
    "    params.append([weights, biases])\n",
    "params"
   ]
  },
  {
   "cell_type": "code",
   "execution_count": 205,
   "metadata": {},
   "outputs": [
    {
     "data": {
      "text/plain": [
       "[[Array([[-0.13922578,  0.01645242],\n",
       "         [-0.13922578,  0.01645242],\n",
       "         [-0.13922578,  0.01645242]], dtype=float32),\n",
       "  Array([[-0.13922578,  0.01645242]], dtype=float32)],\n",
       " [Array([[-2.004686  ],\n",
       "         [-0.08935991]], dtype=float32),\n",
       "  Array([[1.]], dtype=float32)]]"
      ]
     },
     "execution_count": 205,
     "metadata": {},
     "output_type": "execute_result"
    }
   ],
   "source": [
    "@jax.grad\n",
    "def forward(params, x):\n",
    "    for (w, b) in params:\n",
    "        x = jnp.dot(x, w) + b\n",
    "        x = x.flatten()\n",
    "    return x[0]\n",
    "\n",
    "x = np.array([1,1,1], dtype=float)\n",
    "grads = forward(params, x)\n",
    "grads"
   ]
  },
  {
   "cell_type": "code",
   "execution_count": 206,
   "metadata": {},
   "outputs": [
    {
     "data": {
      "text/plain": [
       "[[Array([[-0.75989336,  0.6578978 ],\n",
       "         [-0.36823997,  0.40622306],\n",
       "         [-0.9644494 , -0.8428287 ]], dtype=float32),\n",
       "  Array([[ 0.14358677, -0.31723303]], dtype=float32)],\n",
       " [Array([[0.06124283],\n",
       "         [0.02538841]], dtype=float32),\n",
       "  Array([[0.20869946]], dtype=float32)]]"
      ]
     },
     "execution_count": 206,
     "metadata": {},
     "output_type": "execute_result"
    }
   ],
   "source": [
    "jax.tree_map(\n",
    "    lambda param, grad: param - 0.1*grad, params, grads\n",
    ")"
   ]
  },
  {
   "cell_type": "code",
   "execution_count": 155,
   "metadata": {},
   "outputs": [
    {
     "data": {
      "text/plain": [
       "[{'weights': array([[-0.27760645,  0.04297027],\n",
       "         [ 0.62270137,  0.81731209],\n",
       "         [-0.34625636, -0.36697741]]),\n",
       "  'biases': array([[-0.8466929 ,  0.79967142]])},\n",
       " {'weights': array([[0.79347396],\n",
       "         [0.15120577]]),\n",
       "  'biases': array([[0.6494983]])}]"
      ]
     },
     "execution_count": 155,
     "metadata": {},
     "output_type": "execute_result"
    }
   ],
   "source": [
    "layers = [3,2,1]\n",
    "sender = layers[0]\n",
    "params = []\n",
    "for receiver in layers[1:]:\n",
    "    params.append({\n",
    "        'weights': np.random.uniform(-1, 1, (sender, receiver)),\n",
    "        'biases': np.random.uniform(-1, 1, (1, receiver))\n",
    "    })\n",
    "    sender = receiver\n",
    "params"
   ]
  },
  {
   "cell_type": "code",
   "execution_count": 190,
   "metadata": {},
   "outputs": [
    {
     "ename": "TypeError",
     "evalue": "list indices must be integers or slices, not str",
     "output_type": "error",
     "traceback": [
      "\u001b[1;31m---------------------------------------------------------------------------\u001b[0m",
      "\u001b[1;31mTypeError\u001b[0m                                 Traceback (most recent call last)",
      "Cell \u001b[1;32mIn[190], line 11\u001b[0m\n\u001b[0;32m      8\u001b[0m         x \u001b[38;5;241m=\u001b[39m x\u001b[38;5;241m.\u001b[39mflatten()\n\u001b[0;32m      9\u001b[0m     \u001b[38;5;28;01mreturn\u001b[39;00m x[\u001b[38;5;241m0\u001b[39m]\n\u001b[1;32m---> 11\u001b[0m grads \u001b[38;5;241m=\u001b[39m \u001b[43mforward\u001b[49m\u001b[43m(\u001b[49m\u001b[43mparams\u001b[49m\u001b[43m,\u001b[49m\u001b[43m \u001b[49m\u001b[43mx\u001b[49m\u001b[43m)\u001b[49m\n\u001b[0;32m     12\u001b[0m grads\n",
      "    \u001b[1;31m[... skipping hidden 10 frame]\u001b[0m\n",
      "Cell \u001b[1;32mIn[190], line 7\u001b[0m, in \u001b[0;36mforward\u001b[1;34m(params, x)\u001b[0m\n\u001b[0;32m      4\u001b[0m \u001b[38;5;129m@jax\u001b[39m\u001b[38;5;241m.\u001b[39mgrad\n\u001b[0;32m      5\u001b[0m \u001b[38;5;28;01mdef\u001b[39;00m \u001b[38;5;21mforward\u001b[39m(params, x):\n\u001b[0;32m      6\u001b[0m     \u001b[38;5;28;01mfor\u001b[39;00m layer \u001b[38;5;129;01min\u001b[39;00m params:\n\u001b[1;32m----> 7\u001b[0m         x \u001b[38;5;241m=\u001b[39m jnp\u001b[38;5;241m.\u001b[39mdot(x, \u001b[43mlayer\u001b[49m\u001b[43m[\u001b[49m\u001b[38;5;124;43m'\u001b[39;49m\u001b[38;5;124;43mweights\u001b[39;49m\u001b[38;5;124;43m'\u001b[39;49m\u001b[43m]\u001b[49m) \u001b[38;5;241m+\u001b[39m layer[\u001b[38;5;124m'\u001b[39m\u001b[38;5;124mbiases\u001b[39m\u001b[38;5;124m'\u001b[39m]\n\u001b[0;32m      8\u001b[0m         x \u001b[38;5;241m=\u001b[39m x\u001b[38;5;241m.\u001b[39mflatten()\n\u001b[0;32m      9\u001b[0m     \u001b[38;5;28;01mreturn\u001b[39;00m x[\u001b[38;5;241m0\u001b[39m]\n",
      "\u001b[1;31mTypeError\u001b[0m: list indices must be integers or slices, not str"
     ]
    }
   ],
   "source": [
    "x = np.array([1,1,1], dtype=float)\n",
    "x = np.array([2,1,1], dtype=float)\n",
    "# for w, b in zip(*(entry.values() for entry in params)):\n",
    "@jax.grad\n",
    "def forward(params, x):\n",
    "    for layer in params:\n",
    "        x = jnp.dot(x, layer['weights']) + layer['biases']\n",
    "        x = x.flatten()\n",
    "    return x[0]\n",
    "\n",
    "grads = forward(params, x)\n",
    "grads"
   ]
  },
  {
   "cell_type": "code",
   "execution_count": 186,
   "metadata": {},
   "outputs": [
    {
     "data": {
      "text/plain": [
       "[{'biases': Array([[-0.9260403 ,  0.78455085]], dtype=float32),\n",
       "  'weights': Array([[-0.43630123,  0.01272912],\n",
       "         [ 0.543354  ,  0.80219156],\n",
       "         [-0.42560378, -0.382098  ]], dtype=float32)},\n",
       " {'biases': Array([[0.54949826]], dtype=float32),\n",
       "  'weights': Array([[0.90602005],\n",
       "         [0.0176111 ]], dtype=float32)}]"
      ]
     },
     "execution_count": 186,
     "metadata": {},
     "output_type": "execute_result"
    }
   ],
   "source": [
    "jax.tree_map(\n",
    "    lambda param, grad: param - 0.1*grad, params, grads\n",
    ")"
   ]
  },
  {
   "cell_type": "code",
   "execution_count": 172,
   "metadata": {},
   "outputs": [
    {
     "data": {
      "text/plain": [
       "[{'weights': array([[-0.27760645,  0.04297027],\n",
       "         [ 0.62270137,  0.81731209],\n",
       "         [-0.34625636, -0.36697741]]),\n",
       "  'biases': array([[-0.8466929 ,  0.79967142]])},\n",
       " {'weights': array([[0.79347396],\n",
       "         [0.15120577]]),\n",
       "  'biases': array([[0.6494983]])}]"
      ]
     },
     "execution_count": 172,
     "metadata": {},
     "output_type": "execute_result"
    }
   ],
   "source": [
    "params"
   ]
  },
  {
   "cell_type": "code",
   "execution_count": 123,
   "metadata": {},
   "outputs": [
    {
     "data": {
      "text/plain": [
       "[{'1weights': (3, 2), 'biases': (1, 2)},\n",
       " {'1weights': (2, 1), 'biases': (1, 1)}]"
      ]
     },
     "execution_count": 123,
     "metadata": {},
     "output_type": "execute_result"
    }
   ],
   "source": [
    "jax.tree_map(lambda x : x.shape, params)"
   ]
  },
  {
   "cell_type": "code",
   "execution_count": 5,
   "metadata": {},
   "outputs": [
    {
     "data": {
      "text/plain": [
       "1"
      ]
     },
     "execution_count": 5,
     "metadata": {},
     "output_type": "execute_result"
    }
   ],
   "source": [
    "class State:\n",
    "    value = 0\n",
    "    def __init__(self, value, **kwargs) -> None:\n",
    "        self.value = value\n",
    "        self.args = kwargs\n",
    "F = Test(t=1)\n",
    "F.args['t']"
   ]
  },
  {
   "cell_type": "code",
   "execution_count": 27,
   "metadata": {},
   "outputs": [],
   "source": [
    "import numpy as np\n",
    "import matplotlib.pyplot as plt\n",
    "from plant import RobotArmPlant\n",
    "plant = RobotArmPlant(0, np.pi*0.1, \n",
    "                        dt=.1, \n",
    "                        length=2,\n",
    "                        mass=10,\n",
    "                        gravity=1)\n",
    "state, error = plant.reset()"
   ]
  },
  {
   "cell_type": "code",
   "execution_count": 30,
   "metadata": {},
   "outputs": [
    {
     "data": {
      "image/png": "[encoded data removed]",
      "text/plain": [
       "<Figure size 640x480 with 1 Axes>"
      ]
     },
     "metadata": {},
     "output_type": "display_data"
    }
   ],
   "source": [
    "state, error = plant.reset()\n",
    "state_log = []\n",
    "control_log = []\n",
    "error_log = [error, error]\n",
    "params = np.array([\n",
    "    0.1, \n",
    "    0.1,\n",
    "    0.1,\n",
    "])\n",
    "for i in range(100):\n",
    "\n",
    "    e = np.array(\n",
    "        [error, np.sum(error_log), error-error_log[-2]])\n",
    "\n",
    "    U = params@e.T\n",
    "\n",
    "    state, error = plant.step(state, U, 0)\n",
    "    state_log.append(state[0])\n",
    "    control_log.append(U)\n",
    "    error_log.append(error)\n",
    "# plt.ylim(-np.pi, 0.1)\n",
    "plt.plot(state_log, label=\"angle\")\n",
    "# plt.plot(control_log, label=\"torque\")\n",
    "plt.plot([plant.TARGET]*len(state_log), label=\"target\")\n",
    "plt.legend();"
   ]
  },
  {
   "cell_type": "code",
   "execution_count": 18,
   "metadata": {},
   "outputs": [
    {
     "data": {
      "text/plain": [
       "1"
      ]
     },
     "execution_count": 18,
     "metadata": {},
     "output_type": "execute_result"
    }
   ],
   "source": [
    "np.sign(10)"
   ]
  },
  {
   "cell_type": "code",
   "execution_count": 31,
   "metadata": {},
   "outputs": [
    {
     "data": {
      "text/plain": [
       "-2.5752220392306207"
      ]
     },
     "execution_count": 31,
     "metadata": {},
     "output_type": "execute_result"
    }
   ],
   "source": [
    "np.fmod(-12, np.pi)"
   ]
  },
  {
   "cell_type": "code",
   "execution_count": null,
   "metadata": {},
   "outputs": [],
   "source": [
    "ø = max(-2*np.pi, ø)\n",
    "ø = min(ø, 2*np.pi)"
   ]
  },
  {
   "cell_type": "code",
   "execution_count": 720,
   "metadata": {},
   "outputs": [],
   "source": [
    "m = 30\n",
    "l = 50\n",
    "g = 9.81\n",
    "F = 2\n",
    "I = (m * np.power(l, 2)) / 3\n",
    "dt = 0.01\n",
    "ø, w, a = 0, 0, 0"
   ]
  },
  {
   "cell_type": "code",
   "execution_count": 782,
   "metadata": {},
   "outputs": [
    {
     "data": {
      "text/plain": [
       "(0.23678092933068262, 41.9445319100654, 0.2894030151744412)"
      ]
     },
     "execution_count": 782,
     "metadata": {},
     "output_type": "execute_result"
    }
   ],
   "source": [
    "def update(F):\n",
    "    global ø, w, a\n",
    "    T = (F - 0.5*l*m*g*np.cos(ø))\n",
    "    a = T/I\n",
    "\n",
    "    w = w + a*dt\n",
    "    ø = ø + w*dt + 0.5*a*dt**2\n",
    "    ø = np.fmod(ø, np.pi)\n",
    "    return ø\n",
    "\n",
    "update(0)\n",
    "ø, w, a"
   ]
  },
  {
   "cell_type": "code",
   "execution_count": 787,
   "metadata": {},
   "outputs": [
    {
     "data": {
      "text/plain": [
       "-8.0"
      ]
     },
     "execution_count": 787,
     "metadata": {},
     "output_type": "execute_result"
    }
   ],
   "source": [
    "ø, w, a, t = 0, 0, -1, 4\n",
    "ø + w*t + 0.5*()*t**2"
   ]
  },
  {
   "cell_type": "code",
   "execution_count": 758,
   "metadata": {},
   "outputs": [
    {
     "data": {
      "text/plain": [
       "[<matplotlib.lines.Line2D at 0x19b17c644f0>]"
      ]
     },
     "execution_count": 758,
     "metadata": {},
     "output_type": "execute_result"
    },
    {
     "data": {
      "image/png": "[encoded data removed]",
      "text/plain": [
       "<Figure size 640x480 with 1 Axes>"
      ]
     },
     "metadata": {},
     "output_type": "display_data"
    }
   ],
   "source": [
    "x = np.linspace(0, 1, 100)\n",
    "y = np.array([update(0) for _ in x])\n",
    "plt.plot(x, y)"
   ]
  },
  {
   "cell_type": "code",
   "execution_count": 136,
   "metadata": {},
   "outputs": [
    {
     "name": "stdout",
     "output_type": "stream",
     "text": [
      "2.2\n"
     ]
    },
    {
     "data": {
      "text/plain": [
       "0.20000000000000018"
      ]
     },
     "execution_count": 136,
     "metadata": {},
     "output_type": "execute_result"
    }
   ],
   "source": [
    "def error(target, angle): \n",
    "    return np.mod(target - angle, 1)\n",
    "error(1.1, - 1.1)"
   ]
  },
  {
   "cell_type": "code",
   "execution_count": 134,
   "metadata": {},
   "outputs": [
    {
     "data": {
      "text/plain": [
       "0.20000000000000018"
      ]
     },
     "execution_count": 134,
     "metadata": {},
     "output_type": "execute_result"
    }
   ],
   "source": [
    "\n",
    "np.mod(1.1 + 1.1, 1)"
   ]
  },
  {
   "cell_type": "code",
   "execution_count": null,
   "metadata": {},
   "outputs": [],
   "source": [
    "dW = F/I\n",
    "dØ = W"
   ]
  }
 ],
 "metadata": {
  "kernelspec": {
   "display_name": "Python 3",
   "language": "python",
   "name": "python3"
  },
  "language_info": {
   "codemirror_mode": {
    "name": "ipython",
    "version": 3
   },
   "file_extension": ".py",
   "mimetype": "text/x-python",
   "name": "python",
   "nbconvert_exporter": "python",
   "pygments_lexer": "ipython3",
   "version": "3.10.11"
  }
 },
 "nbformat": 4,
 "nbformat_minor": 2
}
